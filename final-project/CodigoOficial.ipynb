{
 "cells": [
  {
   "cell_type": "code",
   "execution_count": 86,
   "metadata": {},
   "outputs": [],
   "source": [
    "df_model_base = pd.read_csv('modeling_base.csv')\n"
   ]
  },
  {
   "cell_type": "code",
   "execution_count": 85,
   "metadata": {},
   "outputs": [],
   "source": [
    "\n",
    "X_col = ['cats_mean_target' ,'shop_id_mean_target', 'item_id_mean_target','lag01','lag12'] + [c for c in m.columns if c.startswith('min') or c.startswith('max')]\n",
    "#removing variables with low feature importance\n",
    "X_col.remove('max_target')\n",
    "X_col.remove('min_target')\n",
    "X_col.remove('min_target__month__item_id')\n",
    "X_col.remove('min_target__shop_id')\n",
    "X_col.remove('min_target__month__shop_id')\n",
    "X_col.remove('min_target__month')\n",
    "y_col = 'target_clip'\n",
    "\n",
    "df_tm = df_model_base[X_col]"
   ]
  },
  {
   "cell_type": "markdown",
   "metadata": {},
   "source": [
    "### Training a Random Forest"
   ]
  },
  {
   "cell_type": "code",
   "execution_count": 69,
   "metadata": {},
   "outputs": [],
   "source": [
    "from sklearn.ensemble import RandomForestClassifier\n",
    "\n",
    "from sklearn.model_selection import train_test_split\n",
    "\n"
   ]
  },
  {
   "cell_type": "code",
   "execution_count": 70,
   "metadata": {},
   "outputs": [],
   "source": [
    "X_train, X_test, y_train, y_test = train_test_split(df_tm,df_model_base[y_col].values, test_size = 0.35, random_state = 42)"
   ]
  },
  {
   "cell_type": "code",
   "execution_count": 71,
   "metadata": {},
   "outputs": [
    {
     "name": "stdout",
     "output_type": "stream",
     "text": [
      "Shape train:  (9097459, 11)\n",
      "Shape teste:  (4898633, 11)\n"
     ]
    }
   ],
   "source": [
    "print('Shape train: ', X_train.shape)\n",
    "print('Shape teste: ', X_test.shape)\n"
   ]
  },
  {
   "cell_type": "code",
   "execution_count": 72,
   "metadata": {},
   "outputs": [],
   "source": [
    "from sklearn.ensemble import RandomForestRegressor\n",
    "rf = RandomForestRegressor()\n",
    "\n",
    "# Train the model on training data\n",
    "rf.fit(X_train,y_train);"
   ]
  },
  {
   "cell_type": "code",
   "execution_count": 73,
   "metadata": {},
   "outputs": [],
   "source": [
    "predictions = rf.predict(X_test)\n"
   ]
  },
  {
   "cell_type": "code",
   "execution_count": 74,
   "metadata": {},
   "outputs": [
    {
     "name": "stdout",
     "output_type": "stream",
     "text": [
      "         imp                                  var\n",
      "9   0.016950                  max_target__shop_id\n",
      "1   0.018863                  shop_id_mean_target\n",
      "0   0.025583                     cats_mean_target\n",
      "8   0.026452           max_target__month__shop_id\n",
      "10  0.026530  min_target__month__item_id__shop_id\n",
      "5   0.031239                    max_target__month\n",
      "6   0.045798           max_target__month__item_id\n",
      "4   0.068728                                lag12\n",
      "2   0.091455                  item_id_mean_target\n",
      "3   0.193246                                lag01\n",
      "7   0.455156  max_target__month__item_id__shop_id\n"
     ]
    },
    {
     "data": {
      "text/plain": [
       "<matplotlib.axes._subplots.AxesSubplot at 0x22c308e8e48>"
      ]
     },
     "execution_count": 74,
     "metadata": {},
     "output_type": "execute_result"
    },
    {
     "data": {
      "image/png": "[encoded data removed]",
      "text/plain": [
       "<Figure size 432x288 with 1 Axes>"
      ]
     },
     "metadata": {},
     "output_type": "display_data"
    }
   ],
   "source": [
    "%matplotlib inline\n",
    "fi = [{'var' : c, 'imp':f}for f,c in zip(rf.feature_importances_,X_col)]\n",
    "df_fi = pd.DataFrame(fi).sort_values('imp')\n",
    "print(df_fi)\n",
    "df_fi.plot(kind='bar')  \n"
   ]
  },
  {
   "cell_type": "code",
   "execution_count": 75,
   "metadata": {},
   "outputs": [
    {
     "name": "stdout",
     "output_type": "stream",
     "text": [
      "         imp                                  var\n",
      "9   0.016950                  max_target__shop_id\n",
      "1   0.018863                  shop_id_mean_target\n",
      "0   0.025583                     cats_mean_target\n",
      "8   0.026452           max_target__month__shop_id\n",
      "10  0.026530  min_target__month__item_id__shop_id\n",
      "5   0.031239                    max_target__month\n",
      "6   0.045798           max_target__month__item_id\n",
      "4   0.068728                                lag12\n",
      "2   0.091455                  item_id_mean_target\n",
      "3   0.193246                                lag01\n",
      "7   0.455156  max_target__month__item_id__shop_id\n"
     ]
    }
   ],
   "source": [
    "print(df_fi)"
   ]
  },
  {
   "cell_type": "code",
   "execution_count": 76,
   "metadata": {},
   "outputs": [
    {
     "data": {
      "text/plain": [
       "array([0. , 0.2, 0. , 0. , 0. ])"
      ]
     },
     "execution_count": 76,
     "metadata": {},
     "output_type": "execute_result"
    }
   ],
   "source": [
    "predictions[:5]"
   ]
  },
  {
   "cell_type": "code",
   "execution_count": 77,
   "metadata": {},
   "outputs": [
    {
     "name": "stdout",
     "output_type": "stream",
     "text": [
      "Mean Absolute Error: 0.12 .\n"
     ]
    }
   ],
   "source": [
    "from sklearn.metrics import mean_absolute_error\n",
    "print('Mean Absolute Error:', round(mean_absolute_error(y_test,predictions), 2), '.')"
   ]
  },
  {
   "cell_type": "code",
   "execution_count": null,
   "metadata": {},
   "outputs": [],
   "source": []
  },
  {
   "cell_type": "code",
   "execution_count": 78,
   "metadata": {},
   "outputs": [],
   "source": [
    "#pd.DataFrame(errors).hist(bins=50)"
   ]
  },
  {
   "cell_type": "code",
   "execution_count": 79,
   "metadata": {},
   "outputs": [
    {
     "name": "stdout",
     "output_type": "stream",
     "text": [
      "(214200, 5)\n",
      "(214200, 6)\n"
     ]
    }
   ],
   "source": [
    "df_sub = df_ts.copy()\n",
    "df_sub['month'] = 11\n",
    "df_sub['year'] = 2015\n",
    "print(df_sub.shape)\n",
    "\n",
    "df_sub = pd.merge(df_sub,df_item_cat,on='item_id')\n",
    "print(df_sub.shape)\n"
   ]
  },
  {
   "cell_type": "code",
   "execution_count": null,
   "metadata": {},
   "outputs": [],
   "source": [
    "    "
   ]
  },
  {
   "cell_type": "code",
   "execution_count": 80,
   "metadata": {},
   "outputs": [
    {
     "name": "stdout",
     "output_type": "stream",
     "text": [
      "(214200, 6)\n"
     ]
    }
   ],
   "source": [
    "print(df_sub.shape)\n",
    "for c in X_col:\n",
    "    if c.endswith('mean_target'):\n",
    "        col_ogm = c.split('_mean_')[0]\n",
    "        b  = df_model_base[[col_ogm,c]].groupby(col_ogm,as_index=False).max()\n",
    "        df_sub = pd.merge(df_sub, b,left_on=col_ogm, right_on=b.columns[0],how='left')\n",
    "    elif c == 'max_target' or c == 'min_target':\n",
    "        df_sub[c] = max(df_model_base[c])\n",
    "    elif c.startswith('min_') or c.startswith('max_'):\n",
    "        cols_agrupadas = c.split('__')[1:]\n",
    "        b = df_model_base[cols_agrupadas + [c]].groupby(cols_agrupadas,as_index=False).max()\n",
    "        df_sub = pd.merge(df_sub, b,on=cols_agrupadas,how='left')\n",
    "target_lag01 = df_model_base[df_model_base.ano_mes == '2015_10'][['target','shop_id','item_id']].reset_index()\n",
    "target_lag01.columns = ['lag01' if c == 'target' else c for c in target_lag01.columns]\n",
    "df_sub = pd.merge(df_sub, target_lag01,on=['shop_id','item_id'],how='left')\n",
    "target_lag12 = df_model_base[df_model_base.ano_mes == '2014_11'][['target','shop_id','item_id']].reset_index()\n",
    "target_lag12.columns = ['lag12' if c == 'target' else c for c in target_lag12.columns]\n",
    "df_sub = pd.merge(df_sub, target_lag12,on=['shop_id','item_id'],how='left')\n"
   ]
  },
  {
   "cell_type": "code",
   "execution_count": 81,
   "metadata": {},
   "outputs": [
    {
     "data": {
      "text/html": [
       "<div>\n",
       "<style scoped>\n",
       "    .dataframe tbody tr th:only-of-type {\n",
       "        vertical-align: middle;\n",
       "    }\n",
       "\n",
       "    .dataframe tbody tr th {\n",
       "        vertical-align: top;\n",
       "    }\n",
       "\n",
       "    .dataframe thead th {\n",
       "        text-align: right;\n",
       "    }\n",
       "</style>\n",
       "<table border=\"1\" class=\"dataframe\">\n",
       "  <thead>\n",
       "    <tr style=\"text-align: right;\">\n",
       "      <th></th>\n",
       "      <th>ID</th>\n",
       "      <th>shop_id</th>\n",
       "      <th>item_id</th>\n",
       "      <th>month</th>\n",
       "      <th>year</th>\n",
       "      <th>cats</th>\n",
       "      <th>cats_mean_target</th>\n",
       "      <th>shop_id_mean_target</th>\n",
       "      <th>item_id_mean_target</th>\n",
       "      <th>max_target__month</th>\n",
       "      <th>...</th>\n",
       "      <th>max_target__month__item_id__shop_id</th>\n",
       "      <th>max_target__month__shop_id</th>\n",
       "      <th>max_target__shop_id</th>\n",
       "      <th>min_target__month__item_id__shop_id</th>\n",
       "      <th>shop_item_x</th>\n",
       "      <th>dt_x</th>\n",
       "      <th>lag01</th>\n",
       "      <th>shop_item_y</th>\n",
       "      <th>dt_y</th>\n",
       "      <th>lag12</th>\n",
       "    </tr>\n",
       "  </thead>\n",
       "  <tbody>\n",
       "    <tr>\n",
       "      <th>0</th>\n",
       "      <td>0</td>\n",
       "      <td>5</td>\n",
       "      <td>5037</td>\n",
       "      <td>11</td>\n",
       "      <td>2015</td>\n",
       "      <td>Consoles Games</td>\n",
       "      <td>0.347987</td>\n",
       "      <td>0.174285</td>\n",
       "      <td>0.737914</td>\n",
       "      <td>989.0</td>\n",
       "      <td>...</td>\n",
       "      <td>1.0</td>\n",
       "      <td>92.0</td>\n",
       "      <td>155.0</td>\n",
       "      <td>0.0</td>\n",
       "      <td>00005_005037</td>\n",
       "      <td>2015-10-01</td>\n",
       "      <td>0.0</td>\n",
       "      <td>00005_005037</td>\n",
       "      <td>2014-11-01</td>\n",
       "      <td>1.0</td>\n",
       "    </tr>\n",
       "    <tr>\n",
       "      <th>1</th>\n",
       "      <td>5100</td>\n",
       "      <td>4</td>\n",
       "      <td>5037</td>\n",
       "      <td>11</td>\n",
       "      <td>2015</td>\n",
       "      <td>Consoles Games</td>\n",
       "      <td>0.347987</td>\n",
       "      <td>0.162158</td>\n",
       "      <td>0.737914</td>\n",
       "      <td>989.0</td>\n",
       "      <td>...</td>\n",
       "      <td>0.0</td>\n",
       "      <td>164.0</td>\n",
       "      <td>227.0</td>\n",
       "      <td>0.0</td>\n",
       "      <td>00004_005037</td>\n",
       "      <td>2015-10-01</td>\n",
       "      <td>0.0</td>\n",
       "      <td>00004_005037</td>\n",
       "      <td>2014-11-01</td>\n",
       "      <td>0.0</td>\n",
       "    </tr>\n",
       "    <tr>\n",
       "      <th>2</th>\n",
       "      <td>10200</td>\n",
       "      <td>6</td>\n",
       "      <td>5037</td>\n",
       "      <td>11</td>\n",
       "      <td>2015</td>\n",
       "      <td>Consoles Games</td>\n",
       "      <td>0.347987</td>\n",
       "      <td>0.223467</td>\n",
       "      <td>0.737914</td>\n",
       "      <td>989.0</td>\n",
       "      <td>...</td>\n",
       "      <td>4.0</td>\n",
       "      <td>154.0</td>\n",
       "      <td>309.0</td>\n",
       "      <td>0.0</td>\n",
       "      <td>00006_005037</td>\n",
       "      <td>2015-10-01</td>\n",
       "      <td>1.0</td>\n",
       "      <td>00006_005037</td>\n",
       "      <td>2014-11-01</td>\n",
       "      <td>4.0</td>\n",
       "    </tr>\n",
       "    <tr>\n",
       "      <th>3</th>\n",
       "      <td>15300</td>\n",
       "      <td>3</td>\n",
       "      <td>5037</td>\n",
       "      <td>11</td>\n",
       "      <td>2015</td>\n",
       "      <td>Consoles Games</td>\n",
       "      <td>0.347987</td>\n",
       "      <td>0.153364</td>\n",
       "      <td>0.737914</td>\n",
       "      <td>989.0</td>\n",
       "      <td>...</td>\n",
       "      <td>2.0</td>\n",
       "      <td>58.0</td>\n",
       "      <td>178.0</td>\n",
       "      <td>0.0</td>\n",
       "      <td>00003_005037</td>\n",
       "      <td>2015-10-01</td>\n",
       "      <td>0.0</td>\n",
       "      <td>00003_005037</td>\n",
       "      <td>2014-11-01</td>\n",
       "      <td>2.0</td>\n",
       "    </tr>\n",
       "    <tr>\n",
       "      <th>4</th>\n",
       "      <td>20400</td>\n",
       "      <td>2</td>\n",
       "      <td>5037</td>\n",
       "      <td>11</td>\n",
       "      <td>2015</td>\n",
       "      <td>Consoles Games</td>\n",
       "      <td>0.347987</td>\n",
       "      <td>0.173413</td>\n",
       "      <td>0.737914</td>\n",
       "      <td>989.0</td>\n",
       "      <td>...</td>\n",
       "      <td>0.0</td>\n",
       "      <td>87.0</td>\n",
       "      <td>138.0</td>\n",
       "      <td>0.0</td>\n",
       "      <td>00002_005037</td>\n",
       "      <td>2015-10-01</td>\n",
       "      <td>0.0</td>\n",
       "      <td>00002_005037</td>\n",
       "      <td>2014-11-01</td>\n",
       "      <td>0.0</td>\n",
       "    </tr>\n",
       "  </tbody>\n",
       "</table>\n",
       "<p>5 rows × 21 columns</p>\n",
       "</div>"
      ],
      "text/plain": [
       "      ID  shop_id  item_id  month  year            cats  cats_mean_target  \\\n",
       "0      0        5     5037     11  2015  Consoles Games          0.347987   \n",
       "1   5100        4     5037     11  2015  Consoles Games          0.347987   \n",
       "2  10200        6     5037     11  2015  Consoles Games          0.347987   \n",
       "3  15300        3     5037     11  2015  Consoles Games          0.347987   \n",
       "4  20400        2     5037     11  2015  Consoles Games          0.347987   \n",
       "\n",
       "   shop_id_mean_target  item_id_mean_target  max_target__month  ...   \\\n",
       "0             0.174285             0.737914              989.0  ...    \n",
       "1             0.162158             0.737914              989.0  ...    \n",
       "2             0.223467             0.737914              989.0  ...    \n",
       "3             0.153364             0.737914              989.0  ...    \n",
       "4             0.173413             0.737914              989.0  ...    \n",
       "\n",
       "   max_target__month__item_id__shop_id  max_target__month__shop_id  \\\n",
       "0                                  1.0                        92.0   \n",
       "1                                  0.0                       164.0   \n",
       "2                                  4.0                       154.0   \n",
       "3                                  2.0                        58.0   \n",
       "4                                  0.0                        87.0   \n",
       "\n",
       "   max_target__shop_id  min_target__month__item_id__shop_id   shop_item_x  \\\n",
       "0                155.0                                  0.0  00005_005037   \n",
       "1                227.0                                  0.0  00004_005037   \n",
       "2                309.0                                  0.0  00006_005037   \n",
       "3                178.0                                  0.0  00003_005037   \n",
       "4                138.0                                  0.0  00002_005037   \n",
       "\n",
       "        dt_x lag01   shop_item_y       dt_y lag12  \n",
       "0 2015-10-01   0.0  00005_005037 2014-11-01   1.0  \n",
       "1 2015-10-01   0.0  00004_005037 2014-11-01   0.0  \n",
       "2 2015-10-01   1.0  00006_005037 2014-11-01   4.0  \n",
       "3 2015-10-01   0.0  00003_005037 2014-11-01   2.0  \n",
       "4 2015-10-01   0.0  00002_005037 2014-11-01   0.0  \n",
       "\n",
       "[5 rows x 21 columns]"
      ]
     },
     "execution_count": 81,
     "metadata": {},
     "output_type": "execute_result"
    }
   ],
   "source": [
    "df_sub.head()"
   ]
  },
  {
   "cell_type": "code",
   "execution_count": 82,
   "metadata": {},
   "outputs": [],
   "source": [
    "df_sub.set_index('ID',inplace=True)\n",
    "df_sub = df_sub[X_col]\n"
   ]
  },
  {
   "cell_type": "code",
   "execution_count": 83,
   "metadata": {},
   "outputs": [],
   "source": [
    "#Mean of target on train set\n",
    "df_sub['lag12'].fillna(0.251265,inplace=True)\n",
    "df_sub['lag01'].fillna(0.251265,inplace=True)\n",
    "df_sub.fillna(0,inplace=True,axis=1)\n"
   ]
  },
  {
   "cell_type": "code",
   "execution_count": 84,
   "metadata": {},
   "outputs": [
    {
     "data": {
      "text/html": [
       "<div>\n",
       "<style scoped>\n",
       "    .dataframe tbody tr th:only-of-type {\n",
       "        vertical-align: middle;\n",
       "    }\n",
       "\n",
       "    .dataframe tbody tr th {\n",
       "        vertical-align: top;\n",
       "    }\n",
       "\n",
       "    .dataframe thead th {\n",
       "        text-align: right;\n",
       "    }\n",
       "</style>\n",
       "<table border=\"1\" class=\"dataframe\">\n",
       "  <thead>\n",
       "    <tr style=\"text-align: right;\">\n",
       "      <th></th>\n",
       "      <th>cats_mean_target</th>\n",
       "      <th>shop_id_mean_target</th>\n",
       "      <th>item_id_mean_target</th>\n",
       "      <th>lag01</th>\n",
       "      <th>lag12</th>\n",
       "      <th>max_target__month</th>\n",
       "      <th>max_target__month__item_id</th>\n",
       "      <th>max_target__month__item_id__shop_id</th>\n",
       "      <th>max_target__month__shop_id</th>\n",
       "      <th>max_target__shop_id</th>\n",
       "      <th>min_target__month__item_id__shop_id</th>\n",
       "    </tr>\n",
       "    <tr>\n",
       "      <th>ID</th>\n",
       "      <th></th>\n",
       "      <th></th>\n",
       "      <th></th>\n",
       "      <th></th>\n",
       "      <th></th>\n",
       "      <th></th>\n",
       "      <th></th>\n",
       "      <th></th>\n",
       "      <th></th>\n",
       "      <th></th>\n",
       "      <th></th>\n",
       "    </tr>\n",
       "  </thead>\n",
       "  <tbody>\n",
       "  </tbody>\n",
       "</table>\n",
       "</div>"
      ],
      "text/plain": [
       "Empty DataFrame\n",
       "Columns: [cats_mean_target, shop_id_mean_target, item_id_mean_target, lag01, lag12, max_target__month, max_target__month__item_id, max_target__month__item_id__shop_id, max_target__month__shop_id, max_target__shop_id, min_target__month__item_id__shop_id]\n",
       "Index: []"
      ]
     },
     "execution_count": 84,
     "metadata": {},
     "output_type": "execute_result"
    }
   ],
   "source": [
    "df_sub[df_sub.isnull().any(axis=1)]"
   ]
  },
  {
   "cell_type": "code",
   "execution_count": 50,
   "metadata": {},
   "outputs": [],
   "source": [
    "y_sub = rf.predict(df_sub)"
   ]
  },
  {
   "cell_type": "code",
   "execution_count": 51,
   "metadata": {},
   "outputs": [
    {
     "data": {
      "text/plain": [
       "array([0. , 0. , 0.1, 0. , 0. ])"
      ]
     },
     "execution_count": 51,
     "metadata": {},
     "output_type": "execute_result"
    }
   ],
   "source": [
    "y_sub[:5]"
   ]
  },
  {
   "cell_type": "code",
   "execution_count": 52,
   "metadata": {},
   "outputs": [],
   "source": [
    "rstd = []\n",
    "for x,y in zip(df_sub.index.values,y_sub):\n",
    "    rstd.append({'ID' : x, 'item_cnt_month' : y})"
   ]
  },
  {
   "cell_type": "code",
   "execution_count": 53,
   "metadata": {},
   "outputs": [],
   "source": [
    "pd.DataFrame(rstd).to_csv('submission18-04-20.csv',index=False)"
   ]
  },
  {
   "cell_type": "code",
   "execution_count": null,
   "metadata": {},
   "outputs": [],
   "source": []
  }
 ],
 "metadata": {
  "kernelspec": {
   "display_name": "Python 3",
   "language": "python",
   "name": "python3"
  },
  "language_info": {
   "codemirror_mode": {
    "name": "ipython",
    "version": 3
   },
   "file_extension": ".py",
   "mimetype": "text/x-python",
   "name": "python",
   "nbconvert_exporter": "python",
   "pygments_lexer": "ipython3",
   "version": "3.5.0"
  }
 },
 "nbformat": 4,
 "nbformat_minor": 2
}
